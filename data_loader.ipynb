{
 "cells": [
  {
   "cell_type": "code",
   "execution_count": 13,
   "metadata": {},
   "outputs": [
    {
     "name": "stdout",
     "output_type": "stream",
     "text": [
      "Overwriting data_loader.py\n"
     ]
    }
   ],
   "source": [
    "%%writefile data_loader.py\n",
    "from torchtext import data\n",
    "from torchtext.data import TabularDataset\n",
    "\n",
    "class DataLoader(object):\n",
    "    \n",
    "    def __init__(self, \n",
    "                 batch_size=64, \n",
    "                 device=-1, \n",
    "                 max_vocab=999999, \n",
    "                 min_freq=1,\n",
    "                 use_eos=False, \n",
    "                 shuffle=True):\n",
    "        '''\n",
    "        #:param min_freq: Minimum frequency for loaded word.\n",
    "        #:param device: Device-id to load data (-1 for CPU)\n",
    "        #:param use_eos: If it is True, put <EOS> after every end of sentence.\n",
    "        #:param shuffle: If it is True, random shuffle the input data.\n",
    "        '''\n",
    "        super(DataLoader, self).__init__()\n",
    "\n",
    "        # Define field of the input file.\n",
    "        # The input file consists of two fields.\n",
    "\n",
    "        self.LABEL = data.Field(sequential=False,\n",
    "                        use_vocab=True,\n",
    "                        unk_token=None\n",
    "                        )\n",
    "\n",
    "        self.TEXT_A = data.Field(use_vocab=True, \n",
    "                               batch_first=True, \n",
    "                               include_lengths=False, \n",
    "                               eos_token='<EOS>' if use_eos else None\n",
    "                               )\n",
    "\n",
    "        self.TEXT_B = data.Field(use_vocab=True, \n",
    "                           batch_first=True, \n",
    "                           include_lengths=False, # 튜플로 길이까지 반환할꺼냐?\n",
    "                           eos_token='<EOS>' if use_eos else None\n",
    "                           )\n",
    "\n",
    "        train_data = TabularDataset.splits(\n",
    "                path = '.',\n",
    "                train = 'train.txt',\n",
    "                format = 'tsv',\n",
    "                fields = [('TEXT_A', self.TEXT_A),('TEXT_B', self.TEXT_B),('LABEL',  self.LABEL)],\n",
    "                skip_header = True\n",
    "        )[0]\n",
    "\n",
    "        valid_data = TabularDataset.splits(\n",
    "                    path = '.',\n",
    "                    train = 'test.txt',\n",
    "                    format = 'tsv',\n",
    "                    fields = [('TEXT_A',  self.TEXT_A),('TEXT_A', self.TEXT_B),('LABEL',  self.LABEL)],\n",
    "                    skip_header = True\n",
    "        )[0]\n",
    "\n",
    "        self.train_iter, self.valid_iter = data.BucketIterator.splits(\n",
    "                    (train_data, valid_data),\n",
    "                    batch_size = batch_size,\n",
    "                    device = 'cuda:%d' % device if device >= 0 else 'cpu',\n",
    "                    shuffle = shuffle,\n",
    "                    sort_key = lambda x:len(x.TEXT_A),\n",
    "                    sort_within_batch = True\n",
    "                    )\n",
    "        \n",
    "        \n",
    "        self.LABEL.build_vocab(train_data)\n",
    "        self.TEXT_A.build_vocab(train_data, max_size=max_vocab, min_freq=min_freq)\n",
    "        self.TEXT_B.build_vocab(train_data, max_size=max_vocab, min_freq=min_freq)\n",
    "        \n",
    "        self.ntokens = len(self.TEXT_A.vocab.stoi) # the size of vocabulary"
   ]
  },
  {
   "cell_type": "code",
   "execution_count": null,
   "metadata": {},
   "outputs": [],
   "source": []
  }
 ],
 "metadata": {
  "kernelspec": {
   "display_name": "conda_amazonei_mxnet_p36",
   "language": "python",
   "name": "conda_amazonei_mxnet_p36"
  },
  "language_info": {
   "codemirror_mode": {
    "name": "ipython",
    "version": 3
   },
   "file_extension": ".py",
   "mimetype": "text/x-python",
   "name": "python",
   "nbconvert_exporter": "python",
   "pygments_lexer": "ipython3",
   "version": "3.6.5"
  }
 },
 "nbformat": 4,
 "nbformat_minor": 4
}
