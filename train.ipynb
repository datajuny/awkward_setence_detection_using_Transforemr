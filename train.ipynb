{
 "cells": [
  {
   "cell_type": "code",
   "execution_count": 17,
   "metadata": {},
   "outputs": [
    {
     "name": "stdout",
     "output_type": "stream",
     "text": [
      "Overwriting train.py\n"
     ]
    }
   ],
   "source": [
    "%%writefile train.py\n",
    "\n",
    "import argparse\n",
    "\n",
    "import torch\n",
    "import torch.nn as nn\n",
    "\n",
    "from data_loader import DataLoader\n",
    "\n",
    "from simple_ntc.transformer import *\n",
    "from simple_ntc.trainer import *\n",
    "\n",
    "\n",
    "def define_argparse():\n",
    "    \n",
    "    p = argparse.ArgumentParser()\n",
    "    \n",
    "    p.add_argument('--model_fn', required=True)\n",
    "\n",
    "\n",
    "    p.add_argument('--gpu_id', type=int, default=-1)\n",
    "    p.add_argument('--verbose', type=int, default=2)\n",
    "\n",
    "    p.add_argument('--min_vocab_freq', type=int, default=2)\n",
    "    p.add_argument('--max_vocab_size', type=int, default=999999)\n",
    "\n",
    "    p.add_argument('--batch_size', type=int, default=256)\n",
    "    p.add_argument('--n_epochs', type=int, default=10)\n",
    "\n",
    "    config = p.parse_args()\n",
    "\n",
    "    return config\n",
    "\n",
    "\n",
    "def main(config):\n",
    "    \n",
    "    dataset = DataLoader(\n",
    "                batch_size=config.batch_size,\n",
    "                min_freq=config.min_vocab_freq,\n",
    "                max_vocab=config.max_vocab_size,\n",
    "                device = config.gpu_id\n",
    "                )\n",
    "    \n",
    "    #vocab_size = len(dataset, TEXT_A.vocab)\n",
    "    #n_classes = len(dataset, label.vocab)\n",
    "    ntokens = dataset.ntokens\n",
    "    ninp = 512 # embedding dimension\n",
    "    nhead = 8 # the number of heads in the multiheadattention models\n",
    "    nhid = 256 # the dimension of the feedforward network model in nn.TransformerEncoder\n",
    "    nlayers = 1 # the number of nn.TransformerEncoderLayer in nn.TransformerEncoder\n",
    "    dropout = 0.5 # the dropout value\n",
    "    \n",
    "    device = torch.device(\"cuda\" if torch.cuda.is_available() else \"cpu\")\n",
    "    model = TransformerModel(ntokens, ninp, nhead, nhid, nlayers, dropout).to(device)\n",
    "    \n",
    "    crit = nn.NLLLoss()\n",
    "    print(model)\n",
    "    \n",
    "    if config.gpu_id >= 0:\n",
    "        model.cuda(config.gpu_id)\n",
    "        crit.cuda(config.gpu_id)\n",
    "\n",
    "    transformer_trainer = Trainer(config)\n",
    "    transformer_trainer_model = transformer_trainer.train(model, crit, dataset.train_iter, dataset.valid_iter)\n",
    "    \n",
    "    torch.save({'config':config,\n",
    "               'vocab':datset.TEXT_A.vocab,\n",
    "               'classes':dataset.LABEL.vocab},\n",
    "              config.model_fn)\n",
    "    \n",
    "if __name__ == '__main__':\n",
    "    config = define_argparse()\n",
    "    main(config)"
   ]
  },
  {
   "cell_type": "code",
   "execution_count": null,
   "metadata": {},
   "outputs": [],
   "source": []
  }
 ],
 "metadata": {
  "kernelspec": {
   "display_name": "conda_amazonei_mxnet_p36",
   "language": "python",
   "name": "conda_amazonei_mxnet_p36"
  },
  "language_info": {
   "codemirror_mode": {
    "name": "ipython",
    "version": 3
   },
   "file_extension": ".py",
   "mimetype": "text/x-python",
   "name": "python",
   "nbconvert_exporter": "python",
   "pygments_lexer": "ipython3",
   "version": "3.6.5"
  }
 },
 "nbformat": 4,
 "nbformat_minor": 4
}
